{
 "cells": [
  {
   "cell_type": "code",
   "execution_count": null,
   "id": "48d7daac-0124-4997-8504-2a5ec84ccefa",
   "metadata": {},
   "outputs": [],
   "source": [
    "# TODO:\n",
    "# 1 reimplement the RErP"
   ]
  }
 ],
 "metadata": {
  "kernelspec": {
   "display_name": "Python 3 (ipykernel)",
   "language": "python",
   "name": "python3"
  },
  "language_info": {
   "codemirror_mode": {
    "name": "ipython",
    "version": 3
   },
   "file_extension": ".py",
   "mimetype": "text/x-python",
   "name": "python",
   "nbconvert_exporter": "python",
   "pygments_lexer": "ipython3",
   "version": "3.9.18"
  }
 },
 "nbformat": 4,
 "nbformat_minor": 5
}
